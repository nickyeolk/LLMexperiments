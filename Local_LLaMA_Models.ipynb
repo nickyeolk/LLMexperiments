{
 "cells": [
  {
   "cell_type": "code",
   "execution_count": 1,
   "metadata": {},
   "outputs": [],
   "source": [
    "from transformers import AutoTokenizer, TextGenerationPipeline\n",
    "from auto_gptq import AutoGPTQForCausalLM"
   ]
  },
  {
   "cell_type": "code",
   "execution_count": 2,
   "metadata": {},
   "outputs": [
    {
     "name": "stderr",
     "output_type": "stream",
     "text": [
      "Downloading (…)okenizer_config.json: 100%|████████████████████████████████████████████████████| 700/700 [00:00<?, ?B/s]\n",
      "C:\\Users\\likkh\\miniconda3\\envs\\py310env\\lib\\site-packages\\huggingface_hub\\file_download.py:133: UserWarning: `huggingface_hub` cache-system uses symlinks by default to efficiently store duplicated files but your machine does not support them in C:\\Users\\likkh\\.cache\\huggingface\\hub. Caching files will still work but in a degraded version that might require more space on your disk. This warning can be disabled by setting the `HF_HUB_DISABLE_SYMLINKS_WARNING` environment variable. For more details, see https://huggingface.co/docs/huggingface_hub/how-to-cache#limitations.\n",
      "To support symlinks on Windows, you either need to activate Developer Mode or to run Python as an administrator. In order to see activate developer mode, see this article: https://docs.microsoft.com/en-us/windows/apps/get-started/enable-your-device-for-development\n",
      "  warnings.warn(message)\n",
      "Downloading tokenizer.model: 100%|██████████████████████████████████████████████████| 500k/500k [00:00<00:00, 20.8MB/s]\n",
      "Downloading (…)/main/tokenizer.json: 100%|████████████████████████████████████████| 1.84M/1.84M [00:00<00:00, 8.19MB/s]\n",
      "Downloading (…)cial_tokens_map.json: 100%|████████████████████████████████████████████████████| 411/411 [00:00<?, ?B/s]\n"
     ]
    }
   ],
   "source": [
    "tokenizer = AutoTokenizer.from_pretrained('JosephusCheung/Guanaco')"
   ]
  },
  {
   "cell_type": "code",
   "execution_count": 13,
   "metadata": {},
   "outputs": [
    {
     "name": "stderr",
     "output_type": "stream",
     "text": [
      "The model weights are not tied. Please use the `tie_weights` method before using the `infer_auto_device` function.\n",
      "The safetensors archive passed at C:\\Users\\likkh\\Desktop\\code\\guanaco-7B-GPTQ\\Guanaco-7B-GPTQ-4bit-128g.no-act-order.safetensors does not contain metadata. Make sure to save your model with the `save_pretrained` method. Defaulting to 'pt' metadata.\n",
      "skip module injection for FusedLlamaMLPForQuantizedModel not support integrate without triton yet.\n"
     ]
    }
   ],
   "source": [
    "model = AutoGPTQForCausalLM.from_quantized(r\"C:\\Users\\likkh\\Desktop\\code\\guanaco-7B-GPTQ\", \n",
    "                                           model_basename='Guanaco-7B-GPTQ-4bit-128g.no-act-order',\n",
    "                                           device=\"cuda:0\",\n",
    "                                           use_safetensors=True,\n",
    "                                           use_triton=False\n",
    "                                          )"
   ]
  },
  {
   "cell_type": "code",
   "execution_count": 60,
   "metadata": {},
   "outputs": [],
   "source": [
    "# https://huggingface.co/docs/transformers/main_classes/text_generation#transformers.GenerationConfig\n",
    "model_parameters = {\n",
    "    'do_sample':True,\n",
    "    'temperature':0.9,\n",
    "    'top_p':0.95,\n",
    "    'top_k':50,\n",
    "    'max_new_tokens':1000\n",
    "}"
   ]
  },
  {
   "cell_type": "code",
   "execution_count": 65,
   "metadata": {},
   "outputs": [],
   "source": [
    "input_string = '''A guanaco is '''\n",
    "input_params = {'input_ids': tokenizer.encode(input_string, return_tensors=\"pt\").to(model.device)}\n",
    "input_params.update(model_parameters)"
   ]
  },
  {
   "cell_type": "code",
   "execution_count": 66,
   "metadata": {},
   "outputs": [
    {
     "name": "stdout",
     "output_type": "stream",
     "text": [
      "<s> A guanaco is 1/4 of a llama. How many llamas would there be if you had 4 guanacos?\n",
      "The question is poorly phrased. A guanaco is not 1/4 of a llama. A guanaco is one-quarter the size of a llama. There are 4 guanacos, so there would be 1 llama.</s>\n"
     ]
    }
   ],
   "source": [
    "print(tokenizer.decode(model.generate(**input_params)[0]))"
   ]
  }
 ],
 "metadata": {
  "kernelspec": {
   "display_name": "Python [conda env:py310env]",
   "language": "python",
   "name": "conda-env-py310env-py"
  },
  "language_info": {
   "codemirror_mode": {
    "name": "ipython",
    "version": 3
   },
   "file_extension": ".py",
   "mimetype": "text/x-python",
   "name": "python",
   "nbconvert_exporter": "python",
   "pygments_lexer": "ipython3",
   "version": "3.10.11"
  }
 },
 "nbformat": 4,
 "nbformat_minor": 4
}
