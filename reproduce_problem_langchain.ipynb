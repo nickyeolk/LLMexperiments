{
 "cells": [
  {
   "cell_type": "code",
   "execution_count": 1,
   "metadata": {},
   "outputs": [],
   "source": [
    "from langchain.llms import OpenAI"
   ]
  },
  {
   "cell_type": "code",
   "execution_count": 2,
   "metadata": {},
   "outputs": [],
   "source": [
    "with open('./keys/openai.txt', 'r') as fp:\n",
    "    key = fp.readline()\n",
    "import os\n",
    "os.environ['OPENAI_API_KEY'] = key"
   ]
  },
  {
   "cell_type": "markdown",
   "metadata": {},
   "source": [
    "# initialize llm"
   ]
  },
  {
   "cell_type": "code",
   "execution_count": 3,
   "metadata": {},
   "outputs": [],
   "source": [
    "llm = OpenAI()"
   ]
  },
  {
   "cell_type": "code",
   "execution_count": 4,
   "metadata": {},
   "outputs": [
    {
     "data": {
      "text/plain": [
       "\"\\n\\nI'm doing well, thank you for asking. How about you?\""
      ]
     },
     "execution_count": 4,
     "metadata": {},
     "output_type": "execute_result"
    }
   ],
   "source": [
    "llm.predict(\"Hi How are you?\")"
   ]
  },
  {
   "cell_type": "markdown",
   "metadata": {},
   "source": [
    "# Create chat template"
   ]
  },
  {
   "cell_type": "code",
   "execution_count": 5,
   "metadata": {},
   "outputs": [],
   "source": [
    "from langchain import LLMChain\n",
    "from langchain.prompts.chat import ChatPromptTemplate, MessagesPlaceholder\n",
    "from langchain.memory import ConversationBufferMemory\n",
    "from langchain.schema import SystemMessage, BaseMessage, HumanMessage, AIMessage"
   ]
  },
  {
   "cell_type": "code",
   "execution_count": 28,
   "metadata": {},
   "outputs": [],
   "source": [
    "# initialprompt = \"\"\"<s>[INST] <<SYS>>\n",
    "# You are a helpful, respectful and honest assistant. Always answer as helpfully as possible, while being safe.  Your answers should not include any harmful, unethical, racist, sexist, toxic, dangerous, or illegal content. Please ensure that your responses are socially unbiased and positive in nature.\n",
    "\n",
    "# If a question does not make any sense, or is not factually coherent, explain why instead of answering something not correct. If you don't know the answer to a question, please don't share false information.\n",
    "# <</SYS>>\n",
    "\n",
    "# Hi there! [/INST] How are you? </s>\"\"\"\n",
    "\n",
    "prompt = ChatPromptTemplate.from_messages([\n",
    "    SystemMessage(content=\"You are a helpful AI assistant that gives concise answers\"),\n",
    "    MessagesPlaceholder(variable_name=\"history_x\"),\n",
    "    (\"human\", \"{human_input}\")\n",
    "])\n",
    "memory = ConversationBufferMemory(memory_key='history_x', \n",
    "                                  human_prefix='human_special', \n",
    "                                  ai_prefix='ai_special', \n",
    "                                  return_messages=True)"
   ]
  },
  {
   "cell_type": "markdown",
   "metadata": {},
   "source": [
    "# create LLM chain"
   ]
  },
  {
   "cell_type": "code",
   "execution_count": 29,
   "metadata": {},
   "outputs": [],
   "source": [
    "chatchain = LLMChain(llm=llm, prompt=prompt, verbose=True, memory=memory)"
   ]
  },
  {
   "cell_type": "markdown",
   "metadata": {},
   "source": [
    "# Chatchain does not utilize the prefixes"
   ]
  },
  {
   "cell_type": "code",
   "execution_count": 30,
   "metadata": {},
   "outputs": [
    {
     "name": "stdout",
     "output_type": "stream",
     "text": [
      "\n",
      "\n",
      "\u001b[1m> Entering new LLMChain chain...\u001b[0m\n",
      "Prompt after formatting:\n",
      "\u001b[32;1m\u001b[1;3mSystem: You are a helpful AI assistant that gives concise answers\n",
      "Human: What is the tallest mountain in the world?\u001b[0m\n",
      "\n",
      "\u001b[1m> Finished chain.\u001b[0m\n"
     ]
    },
    {
     "data": {
      "text/plain": [
       "'The tallest mountain in the world is Mount Everest, standing at a height of 8,848.86 meters (29,031.7 feet) above sea level.'"
      ]
     },
     "execution_count": 30,
     "metadata": {},
     "output_type": "execute_result"
    }
   ],
   "source": [
    "chatchain.run(human_input=\"What is the tallest mountain in the world?\")"
   ]
  },
  {
   "cell_type": "code",
   "execution_count": 31,
   "metadata": {},
   "outputs": [
    {
     "name": "stdout",
     "output_type": "stream",
     "text": [
      "\n",
      "\n",
      "\u001b[1m> Entering new LLMChain chain...\u001b[0m\n",
      "Prompt after formatting:\n",
      "\u001b[32;1m\u001b[1;3mSystem: You are a helpful AI assistant that gives concise answers\n",
      "Human: What is the tallest mountain in the world?\n",
      "AI: The tallest mountain in the world is Mount Everest, standing at a height of 8,848.86 meters (29,031.7 feet) above sea level.\n",
      "Human: What is in second place?\u001b[0m\n",
      "\n",
      "\u001b[1m> Finished chain.\u001b[0m\n"
     ]
    },
    {
     "data": {
      "text/plain": [
       "'The second tallest mountain in the world is K2, also known as Mount Godwin-Austen, standing at a height of 8,611 meters (28,251 feet) above sea level.'"
      ]
     },
     "execution_count": 31,
     "metadata": {},
     "output_type": "execute_result"
    }
   ],
   "source": [
    "chatchain.predict(human_input=\"What is in second place?\")"
   ]
  },
  {
   "cell_type": "code",
   "execution_count": 32,
   "metadata": {},
   "outputs": [
    {
     "name": "stdout",
     "output_type": "stream",
     "text": [
      "\n",
      "\n",
      "\u001b[1m> Entering new LLMChain chain...\u001b[0m\n",
      "Prompt after formatting:\n",
      "\u001b[32;1m\u001b[1;3mSystem: You are a helpful AI assistant that gives concise answers\n",
      "Human: What is the tallest mountain in the world?\n",
      "AI: The tallest mountain in the world is Mount Everest, standing at a height of 8,848.86 meters (29,031.7 feet) above sea level.\n",
      "Human: What is in second place?\n",
      "AI: The second tallest mountain in the world is K2, also known as Mount Godwin-Austen, standing at a height of 8,611 meters (28,251 feet) above sea level.\n",
      "Human: What is in third place?\u001b[0m\n",
      "\n",
      "\u001b[1m> Finished chain.\u001b[0m\n"
     ]
    },
    {
     "data": {
      "text/plain": [
       "{'human_input': 'What is in third place?',\n",
       " 'history_x': [HumanMessage(content='What is the tallest mountain in the world?'),\n",
       "  AIMessage(content='The tallest mountain in the world is Mount Everest, standing at a height of 8,848.86 meters (29,031.7 feet) above sea level.'),\n",
       "  HumanMessage(content='What is in second place?'),\n",
       "  AIMessage(content='The second tallest mountain in the world is K2, also known as Mount Godwin-Austen, standing at a height of 8,611 meters (28,251 feet) above sea level.'),\n",
       "  HumanMessage(content='What is in third place?'),\n",
       "  AIMessage(content='The third tallest mountain in the world is Kangchenjunga, standing at a height of 8,586 meters (28,169 feet) above sea level.')],\n",
       " 'text': 'The third tallest mountain in the world is Kangchenjunga, standing at a height of 8,586 meters (28,169 feet) above sea level.'}"
      ]
     },
     "execution_count": 32,
     "metadata": {},
     "output_type": "execute_result"
    }
   ],
   "source": [
    "chatchain(\"What is in third place?\")"
   ]
  },
  {
   "cell_type": "markdown",
   "metadata": {},
   "source": [
    "# Memory remembers the special prefix for human and ai"
   ]
  },
  {
   "cell_type": "code",
   "execution_count": 33,
   "metadata": {},
   "outputs": [
    {
     "data": {
      "text/plain": [
       "'human_special: What is the tallest mountain in the world?\\nai_special: The tallest mountain in the world is Mount Everest, standing at a height of 8,848.86 meters (29,031.7 feet) above sea level.\\nhuman_special: What is in second place?\\nai_special: The second tallest mountain in the world is K2, also known as Mount Godwin-Austen, standing at a height of 8,611 meters (28,251 feet) above sea level.\\nhuman_special: What is in third place?\\nai_special: The third tallest mountain in the world is Kangchenjunga, standing at a height of 8,586 meters (28,169 feet) above sea level.'"
      ]
     },
     "execution_count": 33,
     "metadata": {},
     "output_type": "execute_result"
    }
   ],
   "source": [
    "memory.buffer_as_str"
   ]
  },
  {
   "cell_type": "markdown",
   "metadata": {},
   "source": [
    "# Chatchain memory remembers as well"
   ]
  },
  {
   "cell_type": "code",
   "execution_count": 38,
   "metadata": {},
   "outputs": [
    {
     "data": {
      "text/plain": [
       "'human_special: What is the tallest mountain in the world?\\nai_special: The tallest mountain in the world is Mount Everest, standing at a height of 8,848.86 meters (29,031.7 feet) above sea level.\\nhuman_special: What is in second place?\\nai_special: The second tallest mountain in the world is K2, also known as Mount Godwin-Austen, standing at a height of 8,611 meters (28,251 feet) above sea level.\\nhuman_special: What is in third place?\\nai_special: The third tallest mountain in the world is Kangchenjunga, standing at a height of 8,586 meters (28,169 feet) above sea level.'"
      ]
     },
     "execution_count": 38,
     "metadata": {},
     "output_type": "execute_result"
    }
   ],
   "source": [
    "chatchain.memory.buffer_as_str"
   ]
  },
  {
   "cell_type": "markdown",
   "metadata": {},
   "source": [
    "# Special prefixes are lost during formatting"
   ]
  },
  {
   "cell_type": "code",
   "execution_count": 44,
   "metadata": {},
   "outputs": [
    {
     "data": {
      "text/plain": [
       "ChatPromptValue(messages=[SystemMessage(content='You are a helpful AI assistant that gives concise answers'), HumanMessage(content='What is the tallest mountain in the world?'), AIMessage(content='The tallest mountain in the world is Mount Everest, standing at a height of 8,848.86 meters (29,031.7 feet) above sea level.'), HumanMessage(content='What is in second place?'), AIMessage(content='The second tallest mountain in the world is K2, also known as Mount Godwin-Austen, standing at a height of 8,611 meters (28,251 feet) above sea level.'), HumanMessage(content='What is in third place?'), AIMessage(content='The third tallest mountain in the world is Kangchenjunga, standing at a height of 8,586 meters (28,169 feet) above sea level.'), HumanMessage(content='What about the forth?')])"
      ]
     },
     "execution_count": 44,
     "metadata": {},
     "output_type": "execute_result"
    }
   ],
   "source": [
    "prepped_prompts = prompt.format_prompt(history_x=chatchain.memory.load_memory_variables({})['history_x'], human_input='What about the forth?')\n",
    "prepped_prompts"
   ]
  },
  {
   "cell_type": "code",
   "execution_count": 45,
   "metadata": {},
   "outputs": [
    {
     "data": {
      "text/plain": [
       "[SystemMessage(content='You are a helpful AI assistant that gives concise answers'),\n",
       " HumanMessage(content='What is the tallest mountain in the world?'),\n",
       " AIMessage(content='The tallest mountain in the world is Mount Everest, standing at a height of 8,848.86 meters (29,031.7 feet) above sea level.'),\n",
       " HumanMessage(content='What is in second place?'),\n",
       " AIMessage(content='The second tallest mountain in the world is K2, also known as Mount Godwin-Austen, standing at a height of 8,611 meters (28,251 feet) above sea level.'),\n",
       " HumanMessage(content='What is in third place?'),\n",
       " AIMessage(content='The third tallest mountain in the world is Kangchenjunga, standing at a height of 8,586 meters (28,169 feet) above sea level.'),\n",
       " HumanMessage(content='What about the forth?')]"
      ]
     },
     "execution_count": 45,
     "metadata": {},
     "output_type": "execute_result"
    }
   ],
   "source": [
    "prepped_prompts.messages"
   ]
  },
  {
   "cell_type": "code",
   "execution_count": 46,
   "metadata": {},
   "outputs": [
    {
     "data": {
      "text/plain": [
       "'System: You are a helpful AI assistant that gives concise answers\\nHuman: What is the tallest mountain in the world?\\nAI: The tallest mountain in the world is Mount Everest, standing at a height of 8,848.86 meters (29,031.7 feet) above sea level.\\nHuman: What is in second place?\\nAI: The second tallest mountain in the world is K2, also known as Mount Godwin-Austen, standing at a height of 8,611 meters (28,251 feet) above sea level.\\nHuman: What is in third place?\\nAI: The third tallest mountain in the world is Kangchenjunga, standing at a height of 8,586 meters (28,169 feet) above sea level.\\nHuman: What about the forth?'"
      ]
     },
     "execution_count": 46,
     "metadata": {},
     "output_type": "execute_result"
    }
   ],
   "source": [
    "# in this function we get the system and ai and human prefixes tagged on.\n",
    "# to_string() is in chat.py\n",
    "prepped_prompts.to_string()"
   ]
  },
  {
   "cell_type": "code",
   "execution_count": 48,
   "metadata": {},
   "outputs": [
    {
     "data": {
      "text/plain": [
       "'System: You are a helpful AI assistant that gives concise answers\\nHuman: What is the tallest mountain in the world?\\nAI: The tallest mountain in the world is Mount Everest, standing at a height of 8,848.86 meters (29,031.7 feet) above sea level.\\nHuman: What is in second place?\\nAI: The second tallest mountain in the world is K2, also known as Mount Godwin-Austen, standing at a height of 8,611 meters (28,251 feet) above sea level.\\nHuman: What is in third place?\\nAI: The third tallest mountain in the world is Kangchenjunga, standing at a height of 8,586 meters (28,169 feet) above sea level.\\nHuman: What about the forth?'"
      ]
     },
     "execution_count": 48,
     "metadata": {},
     "output_type": "execute_result"
    }
   ],
   "source": [
    "from langchain.schema.messages import get_buffer_string\n",
    "get_buffer_string(prepped_prompts.messages)"
   ]
  },
  {
   "cell_type": "code",
   "execution_count": 49,
   "metadata": {},
   "outputs": [
    {
     "data": {
      "text/plain": [
       "ConversationBufferMemory(chat_memory=ChatMessageHistory(messages=[HumanMessage(content='What is the tallest mountain in the world?'), AIMessage(content='The tallest mountain in the world is Mount Everest, standing at a height of 8,848.86 meters (29,031.7 feet) above sea level.'), HumanMessage(content='What is in second place?'), AIMessage(content='The second tallest mountain in the world is K2, also known as Mount Godwin-Austen, standing at a height of 8,611 meters (28,251 feet) above sea level.'), HumanMessage(content='What is in third place?'), AIMessage(content='The third tallest mountain in the world is Kangchenjunga, standing at a height of 8,586 meters (28,169 feet) above sea level.')]), return_messages=True, human_prefix='human_special', ai_prefix='ai_special', memory_key='history_x')"
      ]
     },
     "execution_count": 49,
     "metadata": {},
     "output_type": "execute_result"
    }
   ],
   "source": [
    "# chain's memory contains the info human and ai prefix.\n",
    "chatchain.memory"
   ]
  },
  {
   "cell_type": "code",
   "execution_count": 22,
   "metadata": {},
   "outputs": [
    {
     "data": {
      "text/plain": [
       "[HumanMessage(content='What is the tallest mountain in the world?'),\n",
       " AIMessage(content='\\n\\nSystem: Hi there! The tallest mountain in the world is Mount Everest, located in the Mahalangur Himal sub-range of the Himalayas in Nepal and Tibet. It stands at a peak elevation of 8,848 meters (29,029 ft) above sea level.'),\n",
       " HumanMessage(content='What is in second place?'),\n",
       " AIMessage(content='\\nAI:\\n\\nSystem: The second tallest mountain in the world is K2, also known as Mount Godwin-Austen or Chhogori. It is located in the Karakoram mountain range in the Gilgit-Baltistan region of Pakistan and the Taxkorgan Tajik Autonomous County of Xinjiang, China. It has an elevation of 8,611 meters (28,251 ft).'),\n",
       " HumanMessage(content='What is in third place?'),\n",
       " AIMessage(content='\\nAI:\\n\\nSystem: The third tallest mountain in the world is Kangchenjunga, located in the Himalayas between Nepal and India. It stands at an elevation of 8,586 meters (28,169 ft).')]"
      ]
     },
     "execution_count": 22,
     "metadata": {},
     "output_type": "execute_result"
    }
   ],
   "source": [
    "chatchain.memory.load_memory_variables({})['history_x']"
   ]
  },
  {
   "cell_type": "code",
   "execution_count": 50,
   "metadata": {},
   "outputs": [
    {
     "data": {
      "text/plain": [
       "LLMResult(generations=[[ChatGeneration(text='The fourth tallest mountain in the world is Lhotse, standing at a height of 8,516 meters (27,940 feet) above sea level.', generation_info={'finish_reason': 'stop'}, message=AIMessage(content='The fourth tallest mountain in the world is Lhotse, standing at a height of 8,516 meters (27,940 feet) above sea level.'))]], llm_output={'token_usage': {'prompt_tokens': 179, 'completion_tokens': 32, 'total_tokens': 211}, 'model_name': 'gpt-3.5-turbo-0613'}, run=[RunInfo(run_id=UUID('0b478471-edc7-4fe4-b9ba-a235d8e96d5d'))])"
      ]
     },
     "execution_count": 50,
     "metadata": {},
     "output_type": "execute_result"
    }
   ],
   "source": [
    "chatchain.llm.generate_prompt([prepped_prompts])"
   ]
  },
  {
   "cell_type": "code",
   "execution_count": 11,
   "metadata": {},
   "outputs": [],
   "source": []
  },
  {
   "cell_type": "code",
   "execution_count": 17,
   "metadata": {},
   "outputs": [],
   "source": []
  },
  {
   "cell_type": "code",
   "execution_count": 18,
   "metadata": {},
   "outputs": [],
   "source": []
  },
  {
   "cell_type": "markdown",
   "metadata": {},
   "source": [
    "# Tagging"
   ]
  },
  {
   "cell_type": "code",
   "execution_count": 19,
   "metadata": {},
   "outputs": [],
   "source": [
    "from langchain.chat_models import ChatOpenAI\n",
    "from langchain.prompts import ChatPromptTemplate\n",
    "from langchain.chains import create_tagging_chain, create_tagging_chain_pydantic"
   ]
  },
  {
   "cell_type": "code",
   "execution_count": 20,
   "metadata": {},
   "outputs": [],
   "source": [
    "# Schema\n",
    "schema = {\n",
    "    \"properties\": {\n",
    "        \"sentiment\": {\"type\": \"string\"},\n",
    "        \"aggressiveness\": {\"type\": \"integer\"},\n",
    "        \"language\": {\"type\": \"string\"},\n",
    "    }\n",
    "}\n",
    "\n",
    "# LLM\n",
    "llm = ChatOpenAI(temperature=0, model=\"gpt-3.5-turbo-0613\", verbose=True)\n",
    "chain = create_tagging_chain(schema, llm, verbose=True)"
   ]
  },
  {
   "cell_type": "code",
   "execution_count": 21,
   "metadata": {},
   "outputs": [
    {
     "name": "stdout",
     "output_type": "stream",
     "text": [
      "\n",
      "\n",
      "\u001b[1m> Entering new LLMChain chain...\u001b[0m\n",
      "Prompt after formatting:\n",
      "\u001b[32;1m\u001b[1;3mHuman: Extract the desired information from the following passage.\n",
      "\n",
      "Only extract the properties mentioned in the 'information_extraction' function.\n",
      "\n",
      "Passage:\n",
      "Estoy increiblemente contento de haberte conocido! Creo que seremos muy buenos amigos!\n",
      "\u001b[0m\n",
      "\n",
      "\u001b[1m> Finished chain.\u001b[0m\n"
     ]
    },
    {
     "data": {
      "text/plain": [
       "{'sentiment': 'positive', 'language': 'Spanish'}"
      ]
     },
     "execution_count": 21,
     "metadata": {},
     "output_type": "execute_result"
    }
   ],
   "source": [
    "inp = \"Estoy increiblemente contento de haberte conocido! Creo que seremos muy buenos amigos!\"\n",
    "chain.run(inp)"
   ]
  },
  {
   "cell_type": "code",
   "execution_count": 29,
   "metadata": {},
   "outputs": [],
   "source": [
    "schema = {\n",
    "    \"properties\": {\n",
    "        \"aggressiveness\": {\n",
    "            \"type\": \"integer\",\n",
    "            \"enum\": [1, 2, 3, 4, 5],\n",
    "            \"description\": \"describes how aggressive the statement is, the higher the number the more aggressive\",\n",
    "        },\n",
    "        \"language\": {\n",
    "            \"type\": \"string\",\n",
    "            \"enum\": [\"spanish\", \"english\", \"french\", \"german\", \"italian\"],\n",
    "        },\n",
    "    },\n",
    "    \"required\": [\"language\", \"sentiment\", \"aggressiveness\"],\n",
    "}"
   ]
  },
  {
   "cell_type": "code",
   "execution_count": 33,
   "metadata": {},
   "outputs": [],
   "source": [
    "chain = create_tagging_chain(schema, llm, verbose=True)"
   ]
  },
  {
   "cell_type": "code",
   "execution_count": 34,
   "metadata": {},
   "outputs": [
    {
     "name": "stdout",
     "output_type": "stream",
     "text": [
      "\n",
      "\n",
      "\u001b[1m> Entering new LLMChain chain...\u001b[0m\n",
      "Prompt after formatting:\n",
      "\u001b[32;1m\u001b[1;3mHuman: Extract the desired information from the following passage.\n",
      "\n",
      "Only extract the properties mentioned in the 'information_extraction' function.\n",
      "\n",
      "Passage:\n",
      "Estoy increiblemente contento de haberte conocido! Creo que seremos muy buenos amigos!\n",
      "\u001b[0m\n",
      "\n",
      "\u001b[1m> Finished chain.\u001b[0m\n"
     ]
    },
    {
     "data": {
      "text/plain": [
       "{'aggressiveness': 0, 'language': 'spanish'}"
      ]
     },
     "execution_count": 34,
     "metadata": {},
     "output_type": "execute_result"
    }
   ],
   "source": [
    "inp = \"Estoy increiblemente contento de haberte conocido! Creo que seremos muy buenos amigos!\"\n",
    "chain.run(inp)"
   ]
  },
  {
   "cell_type": "code",
   "execution_count": 19,
   "metadata": {},
   "outputs": [
    {
     "ename": "ValueError",
     "evalue": "`run` supported with either positional arguments or keyword arguments, but none were provided.",
     "output_type": "error",
     "traceback": [
      "\u001b[1;31m---------------------------------------------------------------------------\u001b[0m",
      "\u001b[1;31mValueError\u001b[0m                                Traceback (most recent call last)",
      "Cell \u001b[1;32mIn[19], line 1\u001b[0m\n\u001b[1;32m----> 1\u001b[0m \u001b[43mchain\u001b[49m\u001b[38;5;241;43m.\u001b[39;49m\u001b[43mrun\u001b[49m\u001b[43m(\u001b[49m\u001b[43m)\u001b[49m\n",
      "File \u001b[1;32m~\\miniconda3\\envs\\py310env\\lib\\site-packages\\langchain\\chains\\base.py:517\u001b[0m, in \u001b[0;36mChain.run\u001b[1;34m(self, callbacks, tags, metadata, *args, **kwargs)\u001b[0m\n\u001b[0;32m    512\u001b[0m     \u001b[38;5;28;01mreturn\u001b[39;00m \u001b[38;5;28mself\u001b[39m(kwargs, callbacks\u001b[38;5;241m=\u001b[39mcallbacks, tags\u001b[38;5;241m=\u001b[39mtags, metadata\u001b[38;5;241m=\u001b[39mmetadata)[\n\u001b[0;32m    513\u001b[0m         _output_key\n\u001b[0;32m    514\u001b[0m     ]\n\u001b[0;32m    516\u001b[0m \u001b[38;5;28;01mif\u001b[39;00m \u001b[38;5;129;01mnot\u001b[39;00m kwargs \u001b[38;5;129;01mand\u001b[39;00m \u001b[38;5;129;01mnot\u001b[39;00m args:\n\u001b[1;32m--> 517\u001b[0m     \u001b[38;5;28;01mraise\u001b[39;00m \u001b[38;5;167;01mValueError\u001b[39;00m(\n\u001b[0;32m    518\u001b[0m         \u001b[38;5;124m\"\u001b[39m\u001b[38;5;124m`run` supported with either positional arguments or keyword arguments,\u001b[39m\u001b[38;5;124m\"\u001b[39m\n\u001b[0;32m    519\u001b[0m         \u001b[38;5;124m\"\u001b[39m\u001b[38;5;124m but none were provided.\u001b[39m\u001b[38;5;124m\"\u001b[39m\n\u001b[0;32m    520\u001b[0m     )\n\u001b[0;32m    521\u001b[0m \u001b[38;5;28;01melse\u001b[39;00m:\n\u001b[0;32m    522\u001b[0m     \u001b[38;5;28;01mraise\u001b[39;00m \u001b[38;5;167;01mValueError\u001b[39;00m(\n\u001b[0;32m    523\u001b[0m         \u001b[38;5;124mf\u001b[39m\u001b[38;5;124m\"\u001b[39m\u001b[38;5;124m`run` supported with either positional arguments or keyword arguments\u001b[39m\u001b[38;5;124m\"\u001b[39m\n\u001b[0;32m    524\u001b[0m         \u001b[38;5;124mf\u001b[39m\u001b[38;5;124m\"\u001b[39m\u001b[38;5;124m but not both. Got args: \u001b[39m\u001b[38;5;132;01m{\u001b[39;00margs\u001b[38;5;132;01m}\u001b[39;00m\u001b[38;5;124m and kwargs: \u001b[39m\u001b[38;5;132;01m{\u001b[39;00mkwargs\u001b[38;5;132;01m}\u001b[39;00m\u001b[38;5;124m.\u001b[39m\u001b[38;5;124m\"\u001b[39m\n\u001b[0;32m    525\u001b[0m     )\n",
      "\u001b[1;31mValueError\u001b[0m: `run` supported with either positional arguments or keyword arguments, but none were provided."
     ]
    }
   ],
   "source": [
    "chain.run()"
   ]
  },
  {
   "cell_type": "code",
   "execution_count": null,
   "metadata": {},
   "outputs": [],
   "source": []
  }
 ],
 "metadata": {
  "kernelspec": {
   "display_name": "Python [conda env:py310env]",
   "language": "python",
   "name": "conda-env-py310env-py"
  },
  "language_info": {
   "codemirror_mode": {
    "name": "ipython",
    "version": 3
   },
   "file_extension": ".py",
   "mimetype": "text/x-python",
   "name": "python",
   "nbconvert_exporter": "python",
   "pygments_lexer": "ipython3",
   "version": "3.10.11"
  }
 },
 "nbformat": 4,
 "nbformat_minor": 4
}
