{
 "cells": [
  {
   "cell_type": "code",
   "execution_count": 1,
   "metadata": {},
   "outputs": [],
   "source": [
    "from langchain.llms import OpenAI"
   ]
  },
  {
   "cell_type": "code",
   "execution_count": 2,
   "metadata": {},
   "outputs": [],
   "source": [
    "with open('./keys/openai.txt', 'r') as fp:\n",
    "    key = fp.readline()\n",
    "import os\n",
    "os.environ['OPENAI_API_KEY'] = key"
   ]
  },
  {
   "cell_type": "markdown",
   "metadata": {},
   "source": [
    "# initialize llm"
   ]
  },
  {
   "cell_type": "code",
   "execution_count": 3,
   "metadata": {},
   "outputs": [],
   "source": [
    "llm = OpenAI()"
   ]
  },
  {
   "cell_type": "code",
   "execution_count": 4,
   "metadata": {},
   "outputs": [
    {
     "data": {
      "text/plain": [
       "\"\\n\\nI'm doing well, thank you. How about you?\""
      ]
     },
     "execution_count": 4,
     "metadata": {},
     "output_type": "execute_result"
    }
   ],
   "source": [
    "llm.predict(\"Hi How are you?\")"
   ]
  },
  {
   "cell_type": "markdown",
   "metadata": {},
   "source": [
    "# Create chat template"
   ]
  },
  {
   "cell_type": "code",
   "execution_count": 5,
   "metadata": {},
   "outputs": [],
   "source": [
    "from langchain import LLMChain\n",
    "from langchain.prompts.chat import ChatPromptTemplate, MessagesPlaceholder\n",
    "from langchain.memory import ConversationBufferMemory\n",
    "from langchain.schema import SystemMessage, BaseMessage, HumanMessage, AIMessage"
   ]
  },
  {
   "cell_type": "code",
   "execution_count": 9,
   "metadata": {},
   "outputs": [],
   "source": [
    "initialprompt = \"\"\"<s>[INST] <<SYS>>\n",
    "You are a helpful, respectful and honest assistant. Always answer as helpfully as possible, while being safe.  Your answers should not include any harmful, unethical, racist, sexist, toxic, dangerous, or illegal content. Please ensure that your responses are socially unbiased and positive in nature.\n",
    "\n",
    "If a question does not make any sense, or is not factually coherent, explain why instead of answering something not correct. If you don't know the answer to a question, please don't share false information.\n",
    "<</SYS>>\n",
    "\n",
    "Hi there! [/INST] How are you? </s>\"\"\"\n",
    "\n",
    "prompt = ChatPromptTemplate.from_messages([\n",
    "    SystemMessage(content=initialprompt),\n",
    "    MessagesPlaceholder(variable_name=\"history_x\"),\n",
    "    (\"human\", \"{human_input}\")\n",
    "])\n",
    "memory = ConversationBufferMemory(memory_key='history_x', \n",
    "                                  human_prefix='human_special', \n",
    "                                  ai_prefix='ai_special', \n",
    "                                  return_messages=True)"
   ]
  },
  {
   "cell_type": "code",
   "execution_count": 37,
   "metadata": {},
   "outputs": [
    {
     "data": {
      "text/plain": [
       "[HumanMessage(content='What is the tallest mountain in the world?'),\n",
       " AIMessage(content='\\n\\nSystem: Hi there! The tallest mountain in the world is Mount Everest in the Himalayas, located between Nepal and Tibet. It stands at a height of 8,848 meters (29,029 ft) above sea level.'),\n",
       " HumanMessage(content='What is in second place?'),\n",
       " AIMessage(content='\\nAI:\\n\\nSystem: The second tallest mountain in the world is K2, located in the Karakoram Range between Pakistan and China. It stands at a height of 8,611 meters (28,251 ft) above sea level.'),\n",
       " HumanMessage(content='What is in third place?'),\n",
       " AIMessage(content='\\nAI:\\n\\nSystem: The third tallest mountain in the world is Kangchenjunga, located on the India-Nepal border. It stands at a height of 8,586 meters (28,169 ft) above sea level.')]"
      ]
     },
     "execution_count": 37,
     "metadata": {},
     "output_type": "execute_result"
    }
   ],
   "source": [
    "chatchain.memory.load_memory_variables({})['history_x']"
   ]
  },
  {
   "cell_type": "code",
   "execution_count": 40,
   "metadata": {},
   "outputs": [
    {
     "data": {
      "text/plain": [
       "ChatPromptValue(messages=[SystemMessage(content=\"<s>[INST] <<SYS>>\\nYou are a helpful, respectful and honest assistant. Always answer as helpfully as possible, while being safe.  Your answers should not include any harmful, unethical, racist, sexist, toxic, dangerous, or illegal content. Please ensure that your responses are socially unbiased and positive in nature.\\n\\nIf a question does not make any sense, or is not factually coherent, explain why instead of answering something not correct. If you don't know the answer to a question, please don't share false information.\\n<</SYS>>\\n\\nHi there! [/INST] How are you? </s>\"), HumanMessage(content='What is the tallest mountain in the world?'), AIMessage(content='\\n\\nSystem: Hi there! The tallest mountain in the world is Mount Everest in the Himalayas, located between Nepal and Tibet. It stands at a height of 8,848 meters (29,029 ft) above sea level.'), HumanMessage(content='What is in second place?'), AIMessage(content='\\nAI:\\n\\nSystem: The second tallest mountain in the world is K2, located in the Karakoram Range between Pakistan and China. It stands at a height of 8,611 meters (28,251 ft) above sea level.'), HumanMessage(content='What is in third place?'), AIMessage(content='\\nAI:\\n\\nSystem: The third tallest mountain in the world is Kangchenjunga, located on the India-Nepal border. It stands at a height of 8,586 meters (28,169 ft) above sea level.'), HumanMessage(content='tete')])"
      ]
     },
     "execution_count": 40,
     "metadata": {},
     "output_type": "execute_result"
    }
   ],
   "source": [
    "prepped_prompts = prompt.format_prompt(history_x=chatchain.memory.load_memory_variables({})['history_x'], human_input='tete')\n",
    "prepped_prompts"
   ]
  },
  {
   "cell_type": "code",
   "execution_count": 47,
   "metadata": {},
   "outputs": [
    {
     "data": {
      "text/plain": [
       "[SystemMessage(content=\"<s>[INST] <<SYS>>\\nYou are a helpful, respectful and honest assistant. Always answer as helpfully as possible, while being safe.  Your answers should not include any harmful, unethical, racist, sexist, toxic, dangerous, or illegal content. Please ensure that your responses are socially unbiased and positive in nature.\\n\\nIf a question does not make any sense, or is not factually coherent, explain why instead of answering something not correct. If you don't know the answer to a question, please don't share false information.\\n<</SYS>>\\n\\nHi there! [/INST] How are you? </s>\"),\n",
       " HumanMessage(content='What is the tallest mountain in the world?'),\n",
       " AIMessage(content='\\n\\nSystem: Hi there! The tallest mountain in the world is Mount Everest in the Himalayas, located between Nepal and Tibet. It stands at a height of 8,848 meters (29,029 ft) above sea level.'),\n",
       " HumanMessage(content='What is in second place?'),\n",
       " AIMessage(content='\\nAI:\\n\\nSystem: The second tallest mountain in the world is K2, located in the Karakoram Range between Pakistan and China. It stands at a height of 8,611 meters (28,251 ft) above sea level.'),\n",
       " HumanMessage(content='What is in third place?'),\n",
       " AIMessage(content='\\nAI:\\n\\nSystem: The third tallest mountain in the world is Kangchenjunga, located on the India-Nepal border. It stands at a height of 8,586 meters (28,169 ft) above sea level.'),\n",
       " HumanMessage(content='tete')]"
      ]
     },
     "execution_count": 47,
     "metadata": {},
     "output_type": "execute_result"
    }
   ],
   "source": [
    "prepped_prompts.messages"
   ]
  },
  {
   "cell_type": "code",
   "execution_count": 57,
   "metadata": {},
   "outputs": [
    {
     "data": {
      "text/plain": [
       "\"System: <s>[INST] <<SYS>>\\nYou are a helpful, respectful and honest assistant. Always answer as helpfully as possible, while being safe.  Your answers should not include any harmful, unethical, racist, sexist, toxic, dangerous, or illegal content. Please ensure that your responses are socially unbiased and positive in nature.\\n\\nIf a question does not make any sense, or is not factually coherent, explain why instead of answering something not correct. If you don't know the answer to a question, please don't share false information.\\n<</SYS>>\\n\\nHi there! [/INST] How are you? </s>\\nHuman: What is the tallest mountain in the world?\\nAI: \\n\\nSystem: Hi there! The tallest mountain in the world is Mount Everest in the Himalayas, located between Nepal and Tibet. It stands at a height of 8,848 meters (29,029 ft) above sea level.\\nHuman: What is in second place?\\nAI: \\nAI:\\n\\nSystem: The second tallest mountain in the world is K2, located in the Karakoram Range between Pakistan and China. It stands at a height of 8,611 meters (28,251 ft) above sea level.\\nHuman: What is in third place?\\nAI: \\nAI:\\n\\nSystem: The third tallest mountain in the world is Kangchenjunga, located on the India-Nepal border. It stands at a height of 8,586 meters (28,169 ft) above sea level.\\nHuman: tete\""
      ]
     },
     "execution_count": 57,
     "metadata": {},
     "output_type": "execute_result"
    }
   ],
   "source": [
    "# in this function we get the system and ai and human prefixes tagged on.\n",
    "# to_string() is in chat.py\n",
    "prepped_prompts.to_string()"
   ]
  },
  {
   "cell_type": "code",
   "execution_count": 63,
   "metadata": {},
   "outputs": [
    {
     "data": {
      "text/plain": [
       "\"System: <s>[INST] <<SYS>>\\nYou are a helpful, respectful and honest assistant. Always answer as helpfully as possible, while being safe.  Your answers should not include any harmful, unethical, racist, sexist, toxic, dangerous, or illegal content. Please ensure that your responses are socially unbiased and positive in nature.\\n\\nIf a question does not make any sense, or is not factually coherent, explain why instead of answering something not correct. If you don't know the answer to a question, please don't share false information.\\n<</SYS>>\\n\\nHi there! [/INST] How are you? </s>\\nHuman: What is the tallest mountain in the world?\\nAI: \\n\\nSystem: Hi there! The tallest mountain in the world is Mount Everest in the Himalayas, located between Nepal and Tibet. It stands at a height of 8,848 meters (29,029 ft) above sea level.\\nHuman: What is in second place?\\nAI: \\nAI:\\n\\nSystem: The second tallest mountain in the world is K2, located in the Karakoram Range between Pakistan and China. It stands at a height of 8,611 meters (28,251 ft) above sea level.\\nHuman: What is in third place?\\nAI: \\nAI:\\n\\nSystem: The third tallest mountain in the world is Kangchenjunga, located on the India-Nepal border. It stands at a height of 8,586 meters (28,169 ft) above sea level.\\nHuman: tete\""
      ]
     },
     "execution_count": 63,
     "metadata": {},
     "output_type": "execute_result"
    }
   ],
   "source": [
    "from langchain.schema.messages import get_buffer_string\n",
    "get_buffer_string(prepped_prompts.messages)"
   ]
  },
  {
   "cell_type": "code",
   "execution_count": 65,
   "metadata": {},
   "outputs": [
    {
     "data": {
      "text/plain": [
       "\"<s>[INST] <<SYS>>\\nYou are a helpful, respectful and honest assistant. Always answer as helpfully as possible, while being safe.  Your answers should not include any harmful, unethical, racist, sexist, toxic, dangerous, or illegal content. Please ensure that your responses are socially unbiased and positive in nature.\\n\\nIf a question does not make any sense, or is not factually coherent, explain why instead of answering something not correct. If you don't know the answer to a question, please don't share false information.\\n<</SYS>>\\n\\nHi there! [/INST] How are you? </s>\""
      ]
     },
     "execution_count": 65,
     "metadata": {},
     "output_type": "execute_result"
    }
   ],
   "source": [
    "prepped_prompts.messages[0].content"
   ]
  },
  {
   "cell_type": "code",
   "execution_count": null,
   "metadata": {},
   "outputs": [],
   "source": []
  },
  {
   "cell_type": "code",
   "execution_count": null,
   "metadata": {},
   "outputs": [],
   "source": []
  },
  {
   "cell_type": "code",
   "execution_count": 53,
   "metadata": {},
   "outputs": [
    {
     "data": {
      "text/plain": [
       "LLMResult(generations=[[Generation(text=\"?\\nAI: I'm sorry, I don't understand the question. Could you please rephrase it?\", generation_info={'finish_reason': 'stop', 'logprobs': None})]], llm_output={'token_usage': {'prompt_tokens': 335, 'total_tokens': 357, 'completion_tokens': 22}, 'model_name': 'text-davinci-003'}, run=[RunInfo(run_id=UUID('f694933c-39f6-46c6-bc07-589d5fdb8e00'))])"
      ]
     },
     "execution_count": 53,
     "metadata": {},
     "output_type": "execute_result"
    }
   ],
   "source": [
    "chatchain.llm.generate_prompt([prepped_prompts])"
   ]
  },
  {
   "cell_type": "code",
   "execution_count": 10,
   "metadata": {},
   "outputs": [],
   "source": [
    "chatchain = LLMChain(llm=llm, prompt=prompt, verbose=True, memory=memory)"
   ]
  },
  {
   "cell_type": "code",
   "execution_count": 11,
   "metadata": {},
   "outputs": [
    {
     "name": "stdout",
     "output_type": "stream",
     "text": [
      "\n",
      "\n",
      "\u001b[1m> Entering new LLMChain chain...\u001b[0m\n",
      "Prompt after formatting:\n",
      "\u001b[32;1m\u001b[1;3mSystem: <s>[INST] <<SYS>>\n",
      "You are a helpful, respectful and honest assistant. Always answer as helpfully as possible, while being safe.  Your answers should not include any harmful, unethical, racist, sexist, toxic, dangerous, or illegal content. Please ensure that your responses are socially unbiased and positive in nature.\n",
      "\n",
      "If a question does not make any sense, or is not factually coherent, explain why instead of answering something not correct. If you don't know the answer to a question, please don't share false information.\n",
      "<</SYS>>\n",
      "\n",
      "Hi there! [/INST] How are you? </s>\n",
      "Human: What is the tallest mountain in the world?\u001b[0m\n",
      "\n",
      "\u001b[1m> Finished chain.\u001b[0m\n"
     ]
    },
    {
     "data": {
      "text/plain": [
       "'\\n\\nSystem: Hi there! The tallest mountain in the world is Mount Everest in the Himalayas, located between Nepal and Tibet. It stands at a height of 8,848 meters (29,029 ft) above sea level.'"
      ]
     },
     "execution_count": 11,
     "metadata": {},
     "output_type": "execute_result"
    }
   ],
   "source": [
    "chatchain.run(human_input=\"What is the tallest mountain in the world?\")"
   ]
  },
  {
   "cell_type": "code",
   "execution_count": 12,
   "metadata": {},
   "outputs": [
    {
     "name": "stdout",
     "output_type": "stream",
     "text": [
      "\n",
      "\n",
      "\u001b[1m> Entering new LLMChain chain...\u001b[0m\n",
      "Prompt after formatting:\n",
      "\u001b[32;1m\u001b[1;3mSystem: <s>[INST] <<SYS>>\n",
      "You are a helpful, respectful and honest assistant. Always answer as helpfully as possible, while being safe.  Your answers should not include any harmful, unethical, racist, sexist, toxic, dangerous, or illegal content. Please ensure that your responses are socially unbiased and positive in nature.\n",
      "\n",
      "If a question does not make any sense, or is not factually coherent, explain why instead of answering something not correct. If you don't know the answer to a question, please don't share false information.\n",
      "<</SYS>>\n",
      "\n",
      "Hi there! [/INST] How are you? </s>\n",
      "Human: What is the tallest mountain in the world?\n",
      "AI: \n",
      "\n",
      "System: Hi there! The tallest mountain in the world is Mount Everest in the Himalayas, located between Nepal and Tibet. It stands at a height of 8,848 meters (29,029 ft) above sea level.\n",
      "Human: What is in second place?\u001b[0m\n",
      "\n",
      "\u001b[1m> Finished chain.\u001b[0m\n"
     ]
    },
    {
     "data": {
      "text/plain": [
       "'\\nAI:\\n\\nSystem: The second tallest mountain in the world is K2, located in the Karakoram Range between Pakistan and China. It stands at a height of 8,611 meters (28,251 ft) above sea level.'"
      ]
     },
     "execution_count": 12,
     "metadata": {},
     "output_type": "execute_result"
    }
   ],
   "source": [
    "chatchain.predict(human_input=\"What is in second place?\")"
   ]
  },
  {
   "cell_type": "code",
   "execution_count": 14,
   "metadata": {},
   "outputs": [
    {
     "name": "stdout",
     "output_type": "stream",
     "text": [
      "\n",
      "\n",
      "\u001b[1m> Entering new LLMChain chain...\u001b[0m\n",
      "Prompt after formatting:\n",
      "\u001b[32;1m\u001b[1;3mSystem: <s>[INST] <<SYS>>\n",
      "You are a helpful, respectful and honest assistant. Always answer as helpfully as possible, while being safe.  Your answers should not include any harmful, unethical, racist, sexist, toxic, dangerous, or illegal content. Please ensure that your responses are socially unbiased and positive in nature.\n",
      "\n",
      "If a question does not make any sense, or is not factually coherent, explain why instead of answering something not correct. If you don't know the answer to a question, please don't share false information.\n",
      "<</SYS>>\n",
      "\n",
      "Hi there! [/INST] How are you? </s>\n",
      "Human: What is the tallest mountain in the world?\n",
      "AI: \n",
      "\n",
      "System: Hi there! The tallest mountain in the world is Mount Everest in the Himalayas, located between Nepal and Tibet. It stands at a height of 8,848 meters (29,029 ft) above sea level.\n",
      "Human: What is in second place?\n",
      "AI: \n",
      "AI:\n",
      "\n",
      "System: The second tallest mountain in the world is K2, located in the Karakoram Range between Pakistan and China. It stands at a height of 8,611 meters (28,251 ft) above sea level.\n",
      "Human: What is in third place?\u001b[0m\n",
      "\n",
      "\u001b[1m> Finished chain.\u001b[0m\n"
     ]
    },
    {
     "data": {
      "text/plain": [
       "{'human_input': 'What is in third place?',\n",
       " 'history_x': [HumanMessage(content='What is the tallest mountain in the world?'),\n",
       "  AIMessage(content='\\n\\nSystem: Hi there! The tallest mountain in the world is Mount Everest in the Himalayas, located between Nepal and Tibet. It stands at a height of 8,848 meters (29,029 ft) above sea level.'),\n",
       "  HumanMessage(content='What is in second place?'),\n",
       "  AIMessage(content='\\nAI:\\n\\nSystem: The second tallest mountain in the world is K2, located in the Karakoram Range between Pakistan and China. It stands at a height of 8,611 meters (28,251 ft) above sea level.'),\n",
       "  HumanMessage(content='What is in third place?'),\n",
       "  AIMessage(content='\\nAI:\\n\\nSystem: The third tallest mountain in the world is Kangchenjunga, located on the India-Nepal border. It stands at a height of 8,586 meters (28,169 ft) above sea level.')],\n",
       " 'text': '\\nAI:\\n\\nSystem: The third tallest mountain in the world is Kangchenjunga, located on the India-Nepal border. It stands at a height of 8,586 meters (28,169 ft) above sea level.'}"
      ]
     },
     "execution_count": 14,
     "metadata": {},
     "output_type": "execute_result"
    }
   ],
   "source": [
    "chatchain(\"What is in third place?\")"
   ]
  },
  {
   "cell_type": "code",
   "execution_count": 19,
   "metadata": {},
   "outputs": [
    {
     "data": {
      "text/plain": [
       "ConversationBufferMemory(chat_memory=ChatMessageHistory(messages=[HumanMessage(content='What is the tallest mountain in the world?'), AIMessage(content='\\n\\nSystem: Hi there! The tallest mountain in the world is Mount Everest in the Himalayas, located between Nepal and Tibet. It stands at a height of 8,848 meters (29,029 ft) above sea level.'), HumanMessage(content='What is in second place?'), AIMessage(content='\\nAI:\\n\\nSystem: The second tallest mountain in the world is K2, located in the Karakoram Range between Pakistan and China. It stands at a height of 8,611 meters (28,251 ft) above sea level.'), HumanMessage(content='What is in third place?'), AIMessage(content='\\nAI:\\n\\nSystem: The third tallest mountain in the world is Kangchenjunga, located on the India-Nepal border. It stands at a height of 8,586 meters (28,169 ft) above sea level.')]), return_messages=True, human_prefix='human_special', ai_prefix='ai_special', memory_key='history_x')"
      ]
     },
     "execution_count": 19,
     "metadata": {},
     "output_type": "execute_result"
    }
   ],
   "source": [
    "chatchain.memory"
   ]
  },
  {
   "cell_type": "code",
   "execution_count": 40,
   "metadata": {},
   "outputs": [
    {
     "data": {
      "text/plain": [
       "'human_special: What is the tallest mountain in the world?\\nai_special: \\n\\nSystem: The tallest mountain in the world is Mount Everest, located in the Himalayas. It has a peak elevation of 8,848 meters (29,029 feet) above sea level.\\nhuman_special: What is in second place?\\nai_special: \\nAI: \\n\\nSystem: The second tallest mountain in the world is K2, located in the Karakoram Range of the Himalayas. It has a peak elevation of 8,611 meters (28,251 feet) above sea level.\\nhuman_special: What is in third place?\\nai_special: \\nAI: \\n\\nSystem: The third tallest mountain in the world is Kangchenjunga, located in the Himalayas on the border between India and Nepal. It has a peak elevation of 8,586 meters (28,169 feet) above sea level.'"
      ]
     },
     "execution_count": 40,
     "metadata": {},
     "output_type": "execute_result"
    }
   ],
   "source": [
    "memory.buffer_as_str"
   ]
  },
  {
   "cell_type": "code",
   "execution_count": 28,
   "metadata": {},
   "outputs": [],
   "source": [
    "class something:\n",
    "    def __call__(self):\n",
    "        print('called')\n",
    "    def run(self, parameter):\n",
    "        self(parameter)"
   ]
  },
  {
   "cell_type": "code",
   "execution_count": 29,
   "metadata": {},
   "outputs": [],
   "source": [
    "s = something()"
   ]
  },
  {
   "cell_type": "code",
   "execution_count": 31,
   "metadata": {},
   "outputs": [
    {
     "data": {
      "text/plain": [
       "<__main__.something at 0x268665b50f0>"
      ]
     },
     "execution_count": 31,
     "metadata": {},
     "output_type": "execute_result"
    }
   ],
   "source": []
  }
 ],
 "metadata": {
  "kernelspec": {
   "display_name": "Python [conda env:py310env]",
   "language": "python",
   "name": "conda-env-py310env-py"
  },
  "language_info": {
   "codemirror_mode": {
    "name": "ipython",
    "version": 3
   },
   "file_extension": ".py",
   "mimetype": "text/x-python",
   "name": "python",
   "nbconvert_exporter": "python",
   "pygments_lexer": "ipython3",
   "version": "3.10.11"
  }
 },
 "nbformat": 4,
 "nbformat_minor": 4
}
